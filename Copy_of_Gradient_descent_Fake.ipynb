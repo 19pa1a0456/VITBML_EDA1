{
  "nbformat": 4,
  "nbformat_minor": 0,
  "metadata": {
    "colab": {
      "name": "Copy of Gradient descent Fake.ipynb",
      "provenance": [],
      "toc_visible": true,
      "include_colab_link": true
    },
    "kernelspec": {
      "name": "python3",
      "display_name": "Python 3"
    }
  },
  "cells": [
    {
      "cell_type": "markdown",
      "metadata": {
        "id": "view-in-github",
        "colab_type": "text"
      },
      "source": [
        "<a href=\"https://colab.research.google.com/github/19pa1a0456/VITBML_EDA1/blob/master/Copy_of_Gradient_descent_Fake.ipynb\" target=\"_parent\"><img src=\"https://colab.research.google.com/assets/colab-badge.svg\" alt=\"Open In Colab\"/></a>"
      ]
    },
    {
      "cell_type": "code",
      "metadata": {
        "id": "Lq6qDjhHnbak",
        "colab_type": "code",
        "colab": {}
      },
      "source": [
        "import numpy as np\n",
        "import matplotlib.pyplot as plt"
      ],
      "execution_count": 0,
      "outputs": []
    },
    {
      "cell_type": "code",
      "metadata": {
        "id": "T1a23JYWn5oM",
        "colab_type": "code",
        "colab": {}
      },
      "source": [
        "data = np.genfromtxt('https://raw.githubusercontent.com/kaustubholpadkar/Linear_Regression-Gradient_Descent-Octave/master/data.csv', delimiter=',')"
      ],
      "execution_count": 0,
      "outputs": []
    },
    {
      "cell_type": "code",
      "metadata": {
        "id": "Ip2EQ_PGoQJO",
        "colab_type": "code",
        "outputId": "baae9f35-44b7-4c25-e582-2d94fdb30b60",
        "colab": {
          "base_uri": "https://localhost:8080/",
          "height": 34
        }
      },
      "source": [
        "data.shape"
      ],
      "execution_count": 4,
      "outputs": [
        {
          "output_type": "execute_result",
          "data": {
            "text/plain": [
              "(100, 2)"
            ]
          },
          "metadata": {
            "tags": []
          },
          "execution_count": 4
        }
      ]
    },
    {
      "cell_type": "markdown",
      "metadata": {
        "id": "S4idG9Od-ajr",
        "colab_type": "text"
      },
      "source": [
        ""
      ]
    },
    {
      "cell_type": "markdown",
      "metadata": {
        "id": "4FZH-Ndb-abm",
        "colab_type": "text"
      },
      "source": [
        ""
      ]
    },
    {
      "cell_type": "markdown",
      "metadata": {
        "id": "j6dzTK_L0sy7",
        "colab_type": "text"
      },
      "source": [
        "## **separation into X and Y**"
      ]
    },
    {
      "cell_type": "code",
      "metadata": {
        "id": "uop_AFQSolHl",
        "colab_type": "code",
        "outputId": "44f5c410-fe6f-473e-d281-f7c89c7e0e23",
        "colab": {
          "base_uri": "https://localhost:8080/",
          "height": 782
        }
      },
      "source": [
        "X = data[:, 0]\n",
        "Y = data[:, 1]\n",
        "X,Y"
      ],
      "execution_count": 5,
      "outputs": [
        {
          "output_type": "execute_result",
          "data": {
            "text/plain": [
              "(array([32.50234527, 53.42680403, 61.53035803, 47.47563963, 59.81320787,\n",
              "        55.14218841, 52.21179669, 39.29956669, 48.10504169, 52.55001444,\n",
              "        45.41973014, 54.35163488, 44.1640495 , 58.16847072, 56.72720806,\n",
              "        48.95588857, 44.68719623, 60.29732685, 45.61864377, 38.81681754,\n",
              "        66.18981661, 65.41605175, 47.48120861, 41.57564262, 51.84518691,\n",
              "        59.37082201, 57.31000344, 63.61556125, 46.73761941, 50.55676015,\n",
              "        52.22399609, 35.56783005, 42.43647694, 58.16454011, 57.50444762,\n",
              "        45.44053073, 61.89622268, 33.09383174, 36.43600951, 37.67565486,\n",
              "        44.55560838, 43.31828263, 50.07314563, 43.87061265, 62.99748075,\n",
              "        32.66904376, 40.16689901, 53.57507753, 33.86421497, 64.70713867,\n",
              "        38.11982403, 44.50253806, 40.59953838, 41.72067636, 51.08863468,\n",
              "        55.0780959 , 41.37772653, 62.49469743, 49.20388754, 41.10268519,\n",
              "        41.18201611, 50.18638949, 52.37844622, 50.13548549, 33.64470601,\n",
              "        39.55790122, 56.13038882, 57.36205213, 60.26921439, 35.67809389,\n",
              "        31.588117  , 53.66093226, 46.68222865, 43.10782022, 70.34607562,\n",
              "        44.49285588, 57.5045333 , 36.93007661, 55.80573336, 38.95476907,\n",
              "        56.9012147 , 56.86890066, 34.3331247 , 59.04974121, 57.78822399,\n",
              "        54.28232871, 51.0887199 , 50.28283635, 44.21174175, 38.00548801,\n",
              "        32.94047994, 53.69163957, 68.76573427, 46.2309665 , 68.31936082,\n",
              "        50.03017434, 49.23976534, 50.03957594, 48.14985889, 25.12848465]),\n",
              " array([ 31.70700585,  68.77759598,  62.5623823 ,  71.54663223,\n",
              "         87.23092513,  78.21151827,  79.64197305,  59.17148932,\n",
              "         75.3312423 ,  71.30087989,  55.16567715,  82.47884676,\n",
              "         62.00892325,  75.39287043,  81.43619216,  60.72360244,\n",
              "         82.89250373,  97.37989686,  48.84715332,  56.87721319,\n",
              "         83.87856466, 118.5912173 ,  57.25181946,  51.39174408,\n",
              "         75.38065167,  74.76556403,  95.45505292,  95.22936602,\n",
              "         79.05240617,  83.43207142,  63.35879032,  41.4128853 ,\n",
              "         76.61734128,  96.76956643,  74.08413012,  66.58814441,\n",
              "         77.76848242,  50.71958891,  62.12457082,  60.81024665,\n",
              "         52.68298337,  58.56982472,  82.90598149,  61.4247098 ,\n",
              "        115.2441528 ,  45.57058882,  54.0840548 ,  87.99445276,\n",
              "         52.72549438,  93.57611869,  80.16627545,  65.10171157,\n",
              "         65.56230126,  65.28088692,  73.43464155,  71.13972786,\n",
              "         79.10282968,  86.52053844,  84.74269781,  59.35885025,\n",
              "         61.68403752,  69.84760416,  86.09829121,  59.10883927,\n",
              "         69.89968164,  44.86249071,  85.49806778,  95.53668685,\n",
              "         70.25193442,  52.72173496,  50.39267014,  63.64239878,\n",
              "         72.24725107,  57.81251298, 104.25710159,  86.64202032,\n",
              "         91.486778  ,  55.23166089,  79.55043668,  44.84712424,\n",
              "         80.20752314,  83.14274979,  55.72348926,  77.63418251,\n",
              "         99.05141484,  79.12064627,  69.58889785,  69.51050331,\n",
              "         73.68756432,  61.36690454,  67.17065577,  85.66820315,\n",
              "        114.85387123,  90.12357207,  97.91982104,  81.53699078,\n",
              "         72.11183247,  85.23200734,  66.22495789,  53.45439421]))"
            ]
          },
          "metadata": {
            "tags": []
          },
          "execution_count": 5
        }
      ]
    },
    {
      "cell_type": "markdown",
      "metadata": {
        "id": "4nnGzhEh1IFX",
        "colab_type": "text"
      },
      "source": [
        "\n",
        "\n",
        "# **Visualize the Data**\n",
        "\n"
      ]
    },
    {
      "cell_type": "code",
      "metadata": {
        "colab_type": "code",
        "id": "hDhmAxUC1Gds",
        "colab": {}
      },
      "source": [
        "X = data[:, 0]\n",
        "Y = data[:, 1]"
      ],
      "execution_count": 0,
      "outputs": []
    },
    {
      "cell_type": "code",
      "metadata": {
        "id": "qdTK7EOQpL5Y",
        "colab_type": "code",
        "outputId": "9d74b915-dd1e-4790-d66d-6281f1068eee",
        "colab": {
          "base_uri": "https://localhost:8080/",
          "height": 312
        }
      },
      "source": [
        "fig = plt.figure()\n",
        "plt.scatter(X, Y)\n",
        "fig.suptitle('Student Data : Expected Marks vs Hours of Study', fontsize=18)\n",
        "plt.xlabel('Hours of Study', fontsize=14)\n",
        "plt.ylabel('Expected Marks', fontsize=14)\n",
        "plt.show()"
      ],
      "execution_count": 7,
      "outputs": [
        {
          "output_type": "display_data",
          "data": {
            "image/png": "[encoded data removed]",
            "text/plain": [
              "<Figure size 432x288 with 1 Axes>"
            ]
          },
          "metadata": {
            "tags": []
          }
        }
      ]
    },
    {
      "cell_type": "markdown",
      "metadata": {
        "id": "S-KQ00gL1p6i",
        "colab_type": "text"
      },
      "source": [
        "## **Hyperparameters**"
      ]
    },
    {
      "cell_type": "code",
      "metadata": {
        "id": "OwVfkk3RrC_I",
        "colab_type": "code",
        "colab": {}
      },
      "source": [
        "learning_rate = 0.0001\n",
        "max_iteration = 50"
      ],
      "execution_count": 0,
      "outputs": []
    },
    {
      "cell_type": "markdown",
      "metadata": {
        "id": "kGJxenQp2GdH",
        "colab_type": "text"
      },
      "source": [
        "### parameters"
      ]
    },
    {
      "cell_type": "code",
      "metadata": {
        "id": "2INJM9AIrcBu",
        "colab_type": "code",
        "colab": {}
      },
      "source": [
        "m = 0\n",
        "b = 0"
      ],
      "execution_count": 0,
      "outputs": []
    },
    {
      "cell_type": "markdown",
      "metadata": {
        "id": "ZUr0fCW_2jTv",
        "colab_type": "text"
      },
      "source": [
        ""
      ]
    },
    {
      "cell_type": "markdown",
      "metadata": {
        "id": "q8OvhuM52jbF",
        "colab_type": "text"
      },
      "source": [
        "# **Hypothesis**"
      ]
    },
    {
      "cell_type": "code",
      "metadata": {
        "id": "enVE4tHWsBBF",
        "colab_type": "code",
        "colab": {}
      },
      "source": [
        "def h (m, b, X) :\n",
        "  return m * X + b"
      ],
      "execution_count": 0,
      "outputs": []
    },
    {
      "cell_type": "markdown",
      "metadata": {
        "id": "Srpm3oV52y0e",
        "colab_type": "text"
      },
      "source": [
        "# **Loss Function**"
      ]
    },
    {
      "cell_type": "code",
      "metadata": {
        "id": "3KOQVUjBs-Ub",
        "colab_type": "code",
        "colab": {}
      },
      "source": [
        "def loss (m, b, X, Y) :\n",
        "  return np.average(np.square(Y - h(m, b, X))) / 2"
      ],
      "execution_count": 0,
      "outputs": []
    },
    {
      "cell_type": "markdown",
      "metadata": {
        "id": "iARN3SaW3Fjy",
        "colab_type": "text"
      },
      "source": [
        "# **Calculate Gradients**"
      ]
    },
    {
      "cell_type": "code",
      "metadata": {
        "id": "yy9yxye4t0BJ",
        "colab_type": "code",
        "colab": {}
      },
      "source": [
        "def gradient (m, b, X, Y) :\n",
        "  dm = - np.average((Y - h(m, b, X)) * X)\n",
        "  db = - np.average(Y - h(m, b, X))\n",
        "  return (dm, db)"
      ],
      "execution_count": 0,
      "outputs": []
    },
    {
      "cell_type": "markdown",
      "metadata": {
        "id": "GC_YCI1W3bEd",
        "colab_type": "text"
      },
      "source": [
        "# **Gradient Descent**"
      ]
    },
    {
      "cell_type": "code",
      "metadata": {
        "id": "fprg4-tcu-4v",
        "colab_type": "code",
        "colab": {}
      },
      "source": [
        "def gradient_descent (m, b, X, Y, learning_rate, max_iteration) :\n",
        "  for i in range(max_iteration) :\n",
        "    dm, db = gradient (m, b, X, Y)\n",
        "    m -= learning_rate * dm\n",
        "    b -= learning_rate * db\n",
        "    if i % 10 == 0 :\n",
        "      print ('iteration : ', i, ' loss : ', loss(m, b, X, Y)) \n",
        "  return (m, b)"
      ],
      "execution_count": 0,
      "outputs": []
    },
    {
      "cell_type": "markdown",
      "metadata": {
        "id": "qYaM59Sh3ssO",
        "colab_type": "text"
      },
      "source": [
        "# **Train Model**"
      ]
    },
    {
      "cell_type": "code",
      "metadata": {
        "id": "-0okDGSCwUC7",
        "colab_type": "code",
        "outputId": "448823bc-34ff-4a0b-eef8-965dee28dec9",
        "colab": {
          "base_uri": "https://localhost:8080/",
          "height": 102
        }
      },
      "source": [
        "m, b = gradient_descent (m, b, X, Y, learning_rate, max_iteration)"
      ],
      "execution_count": 14,
      "outputs": [
        {
          "output_type": "stream",
          "text": [
            "iteration :  0  loss :  1593.1334591670338\n",
            "iteration :  10  loss :  61.30482288585254\n",
            "iteration :  20  loss :  56.34127863702311\n",
            "iteration :  30  loss :  56.32510567688097\n",
            "iteration :  40  loss :  56.324963270541446\n"
          ],
          "name": "stdout"
        }
      ]
    },
    {
      "cell_type": "markdown",
      "metadata": {
        "id": "QFhHji3K8DC5",
        "colab_type": "text"
      },
      "source": [
        "### Optimal values of Parameters using Trained Model"
      ]
    },
    {
      "cell_type": "code",
      "metadata": {
        "id": "CPz831W48MSF",
        "colab_type": "code",
        "outputId": "ca7266a7-b7ad-449a-8790-f10d0316c36a",
        "colab": {
          "base_uri": "https://localhost:8080/",
          "height": 34
        }
      },
      "source": [
        "m,b"
      ],
      "execution_count": 15,
      "outputs": [
        {
          "output_type": "execute_result",
          "data": {
            "text/plain": [
              "(1.4788903781318357, 0.030569950649287976)"
            ]
          },
          "metadata": {
            "tags": []
          },
          "execution_count": 15
        }
      ]
    },
    {
      "cell_type": "markdown",
      "metadata": {
        "id": "aksJodKq8Ztj",
        "colab_type": "text"
      },
      "source": [
        "### Linear Regression using *polyfit*  function of **numpy**"
      ]
    },
    {
      "cell_type": "code",
      "metadata": {
        "colab_type": "code",
        "id": "j0w8m40h89R7",
        "colab": {}
      },
      "source": [
        "np_m, np_b = np.polyfit(X, Y, 1)"
      ],
      "execution_count": 0,
      "outputs": []
    },
    {
      "cell_type": "markdown",
      "metadata": {
        "id": "8lXMOhJp9Bi2",
        "colab_type": "text"
      },
      "source": [
        "[### Optimal values of Parameters using Numpy Linear Regression](https://)"
      ]
    },
    {
      "cell_type": "code",
      "metadata": {
        "id": "z4G5h9Ki7IJi",
        "colab_type": "code",
        "outputId": "6f63f08d-f000-439a-e60a-8738bbfdb493",
        "colab": {
          "base_uri": "https://localhost:8080/",
          "height": 34
        }
      },
      "source": [
        "np_m, np_b"
      ],
      "execution_count": 17,
      "outputs": [
        {
          "output_type": "execute_result",
          "data": {
            "text/plain": [
              "(1.32243102275536, 7.991020982270385)"
            ]
          },
          "metadata": {
            "tags": []
          },
          "execution_count": 17
        }
      ]
    },
    {
      "cell_type": "markdown",
      "metadata": {
        "id": "Nzo5pmS99aZg",
        "colab_type": "text"
      },
      "source": [
        "### Visualize the Data"
      ]
    },
    {
      "cell_type": "code",
      "metadata": {
        "id": "RzYwdZWB9cK1",
        "colab_type": "code",
        "colab": {}
      },
      "source": [
        ""
      ],
      "execution_count": 0,
      "outputs": []
    },
    {
      "cell_type": "code",
      "metadata": {
        "id": "B0h7MJE0xcKo",
        "colab_type": "code",
        "outputId": "f5064923-6a4f-4766-faa3-39a98a29e3c2",
        "colab": {
          "base_uri": "https://localhost:8080/",
          "height": 312
        }
      },
      "source": [
        "fig = plt.figure()\n",
        "\n",
        "# Generate data for plotting Line\n",
        "x = np.arange(25, 75)\n",
        "y = [m * x_i + b for x_i in x]\n",
        "\n",
        "# Generate data for plotting Line Numpy Linear Regression\n",
        "np_x = np.arange(25, 75)\n",
        "np_y = [np_m * x_i + np_b for x_i in np_x]\n",
        "\n",
        "# plot data and best-fit lines\n",
        "plt.plot(X, Y, 'o', x, y, '-', np_x, np_y, '--')\n",
        "plt.legend(loc='upper left', labels=['data points', 'best-fit line', 'numpy line'])\n",
        "\n",
        "fig.suptitle('Linear Regression : Expected Marks vs Hours of Study', fontsize=18)\n",
        "plt.xlabel('Hours of Study', fontsize=14)\n",
        "plt.ylabel('Expected Marks', fontsize=14)\n",
        "plt.show()"
      ],
      "execution_count": 29,
      "outputs": [
        {
          "output_type": "display_data",
          "data": {
            "image/png": "[encoded data removed]",
            "text/plain": [
              "<Figure size 432x288 with 1 Axes>"
            ]
          },
          "metadata": {
            "tags": []
          }
        }
      ]
    },
    {
      "cell_type": "code",
      "metadata": {
        "id": "HM099Ii9OmDt",
        "colab_type": "code",
        "colab": {}
      },
      "source": [
        ""
      ],
      "execution_count": 0,
      "outputs": []
    }
  ]
}